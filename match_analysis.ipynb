{
 "cells": [
  {
   "cell_type": "code",
   "execution_count": 2,
   "id": "daa42b03",
   "metadata": {},
   "outputs": [],
   "source": [
    "import pandas as pd\n",
    "import json\n",
    "from datetime import datetime"
   ]
  },
  {
   "cell_type": "code",
   "execution_count": 3,
   "id": "77d5ac80",
   "metadata": {},
   "outputs": [],
   "source": [
    "# Function to read a json data file\n",
    "def load_json(file_path):\n",
    "    try:\n",
    "        with open (file_path, 'r') as file:\n",
    "            \n",
    "            data = json.load(file)\n",
    "            return data\n",
    "        \n",
    "    except FileNotFoundError:\n",
    "        \n",
    "        print(f\"Error: File {file_path} not found.\")\n",
    "        return None\n",
    "    \n",
    "    except json.JSONDecodeError:\n",
    "        \n",
    "        print(f\"Invalid Json format.\")\n",
    "        return None\n",
    "    "
   ]
  },
  {
   "cell_type": "code",
   "execution_count": 7,
   "id": "78b43ec1",
   "metadata": {},
   "outputs": [],
   "source": [
    "#checking if function is working well or not\n",
    "match_data = load_json(r'C:\\Users\\yoges\\OneDrive\\Documents\\Programming\\Proj-X\\match.json')"
   ]
  },
  {
   "cell_type": "markdown",
   "id": "557ed3cb",
   "metadata": {},
   "source": [
    " check the various types of record returned by the function"
   ]
  },
  {
   "cell_type": "code",
   "execution_count": 8,
   "id": "8e908257",
   "metadata": {},
   "outputs": [
    {
     "data": {
      "text/plain": [
       "{'player-loadout',\n",
       " 'player-round',\n",
       " 'player-round-damage',\n",
       " 'player-round-kills',\n",
       " 'player-summary',\n",
       " 'round-summary',\n",
       " 'team-summary'}"
      ]
     },
     "execution_count": 8,
     "metadata": {},
     "output_type": "execute_result"
    }
   ],
   "source": [
    "segment_types = set(segment['type'] for segment in match_data['data']['segments'])\n",
    "segment_types"
   ]
  },
  {
   "cell_type": "code",
   "execution_count": 9,
   "id": "1b40a318",
   "metadata": {},
   "outputs": [],
   "source": [
    "df_lst = []"
   ]
  },
  {
   "cell_type": "code",
   "execution_count": null,
   "id": "877a15e2",
   "metadata": {},
   "outputs": [],
   "source": [
    "match"
   ]
  },
  {
   "cell_type": "code",
   "execution_count": null,
   "id": "8f31db6a",
   "metadata": {},
   "outputs": [],
   "source": [
    "# as data is more complex to read we need to make a function to process this data\n",
    "\n",
    "def process_match_data(data):\n",
    "    if not data or 'data' not in data:\n",
    "        return None, None, None\n",
    "    \n",
    "    match_data = data['data']\n",
    "    metadata = match_data['metadata']\n",
    "    segments = match_data['segments']\n",
    "    \n",
    "    #match summary\n",
    "    \n",
    "    match_summary = {\n",
    "        'match_id': match_data['attributes']['id'],\n",
    "        'map_name':metadata['mapName'],\n",
    "        'mode': metadata['modeName'],\n",
    "        'date_started': datetime.strptime(metadata['dateStarted'], '%Y-%m-%d%H:%M:%S.%f%z'),\n",
    "        'duration_minutes': metadata['duration']/1000/60, #here converting ms to secounds\n",
    "        'rounds_played': metadata['rounds'],\n",
    "        'is_ranked': metadata['isRanked']\n",
    "    }\n",
    "    match_df = pd.DataFrame([match_summary])\n",
    "    \n",
    "    #Creating a team summary DataFrame\n",
    "    \n",
    "    team_data = []\n",
    "    for segment in segments:\n",
    "        if segment['type'] == 'team-summary':\n",
    "            team_data.append({\n",
    "                'team_id': segment['attributes']['teamId'],\n",
    "                'name': segment['metadata']['name'],\n",
    "                'has_won': segment['metadata']['hasWon'],\n",
    "                'rounds_won': segment['stats']['roundsWon']['value'],\n",
    "                'rounds_lost': segment['stats']['roundsLost']['value'],\n",
    "                'score': segment['stats']['score']['value'],\n",
    "                'kills': segment['stats']['kills']['value'],\n",
    "                'deaths': segment['stats']['deaths']['value'],\n",
    "                'assists': segment['stats']['assists']['value'],\n",
    "                'damage': segment['stats']['damage']['value']\n",
    "            })\n",
    "    team_df = pd.DataFrame(team_data)\n",
    "    \n",
    "    "
   ]
  }
 ],
 "metadata": {
  "kernelspec": {
   "display_name": "Python 3",
   "language": "python",
   "name": "python3"
  },
  "language_info": {
   "codemirror_mode": {
    "name": "ipython",
    "version": 3
   },
   "file_extension": ".py",
   "mimetype": "text/x-python",
   "name": "python",
   "nbconvert_exporter": "python",
   "pygments_lexer": "ipython3",
   "version": "3.13.5"
  }
 },
 "nbformat": 4,
 "nbformat_minor": 5
}
